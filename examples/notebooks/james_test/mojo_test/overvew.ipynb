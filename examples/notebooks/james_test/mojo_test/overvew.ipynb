{
 "cells": [
  {
   "cell_type": "markdown",
   "metadata": {},
   "source": [
    "# Mojo Programming Language"
   ]
  },
  {
   "cell_type": "markdown",
   "metadata": {},
   "source": [
    "## Basics\n",
    "We study the following basic concepts of the Mojo programming language:\n",
    "- function: fn\n",
    "- mutable variable: let\n",
    "- immutable variable: var\n",
    "- types: Int, String, (Bool, Float, List, Dict, Tuple, Set)\n",
    "- default input arguments: fn f(a: Int = 1)"
   ]
  },
  {
   "cell_type": "code",
   "execution_count": 1,
   "metadata": {},
   "outputs": [
    {
     "name": "stdout",
     "output_type": "stream",
     "text": [
      "Hello Mojo!\n"
     ]
    }
   ],
   "source": [
    "print(\"Hello Mojo!\")"
   ]
  },
  {
   "cell_type": "code",
   "execution_count": 2,
   "metadata": {},
   "outputs": [],
   "source": [
    "fn main():\n",
    "    var x: Int = 1\n",
    "    x += 1\n",
    "    print(x)"
   ]
  },
  {
   "cell_type": "code",
   "execution_count": 3,
   "metadata": {},
   "outputs": [
    {
     "name": "stdout",
     "output_type": "stream",
     "text": [
      "2\n"
     ]
    }
   ],
   "source": [
    "main()"
   ]
  },
  {
   "cell_type": "code",
   "execution_count": 6,
   "metadata": {},
   "outputs": [],
   "source": [
    "fn main():\n",
    "    var x: Int = 1\n",
    "    let y = 2\n",
    "    x += 1\n",
    "    print(x, y)"
   ]
  },
  {
   "cell_type": "code",
   "execution_count": 7,
   "metadata": {},
   "outputs": [
    {
     "name": "stdout",
     "output_type": "stream",
     "text": [
      "2 2\n"
     ]
    }
   ],
   "source": [
    "main()"
   ]
  },
  {
   "cell_type": "code",
   "execution_count": 8,
   "metadata": {},
   "outputs": [
    {
     "name": "stdout",
     "output_type": "stream",
     "text": [
      "3\n"
     ]
    }
   ],
   "source": [
    "fn add (x: Int, y: Int) -> Int:\n",
    "    return x+y\n",
    "\n",
    "z = add(1, 2)\n",
    "print(z)"
   ]
  },
  {
   "cell_type": "code",
   "execution_count": 9,
   "metadata": {},
   "outputs": [
    {
     "name": "stdout",
     "output_type": "stream",
     "text": [
      "9\n",
      "8\n"
     ]
    }
   ],
   "source": [
    "fn pow(base: Int, exp: Int=2) -> Int:\n",
    "    return base ** exp\n",
    "\n",
    "z = pow(3)\n",
    "print(z)\n",
    "\n",
    "z = pow(exp=3, base=2)\n",
    "print(z)"
   ]
  },
  {
   "cell_type": "markdown",
   "metadata": {},
   "source": [
    "## Borrow, Inout, and Owned"
   ]
  },
  {
   "cell_type": "code",
   "execution_count": 2,
   "metadata": {},
   "outputs": [
    {
     "name": "stdout",
     "output_type": "stream",
     "text": [
      "1 2 3\n"
     ]
    }
   ],
   "source": [
    "fn add(borrowed x: Int, borrowed y: Int) -> Int:\n",
    "    return x+y\n",
    "\n",
    "var a = 1\n",
    "var b = 2\n",
    "c = add(a, b)\n",
    "print(a, b, c)"
   ]
  },
  {
   "cell_type": "markdown",
   "metadata": {},
   "source": [
    "### inout\n",
    "Use inout to change a value of the input argument in a caller function."
   ]
  },
  {
   "cell_type": "code",
   "execution_count": 4,
   "metadata": {},
   "outputs": [
    {
     "name": "stdout",
     "output_type": "stream",
     "text": [
      "2 3 5\n"
     ]
    }
   ],
   "source": [
    "fn add_inout(inout x: Int, inout y: Int) -> Int:\n",
    "    x += 1\n",
    "    y += 1\n",
    "    return x+y\n",
    "\n",
    "var a = 1\n",
    "var b = 2\n",
    "c = add_inout(a, b)\n",
    "print(a, b, c)"
   ]
  },
  {
   "cell_type": "markdown",
   "metadata": {},
   "source": [
    "### Owned\n",
    "All variable controls and the value are moved to the target function"
   ]
  },
  {
   "cell_type": "code",
   "execution_count": 5,
   "metadata": {},
   "outputs": [
    {
     "name": "stdout",
     "output_type": "stream",
     "text": [
      "mojo mojo🔥\n"
     ]
    }
   ],
   "source": [
    "fn set_fire(owned text: String) -> String:\n",
    "    text += \"🔥\"\n",
    "    return text\n",
    "\n",
    "fn mojo():\n",
    "    let a = \"mojo\"\n",
    "    let b = set_fire(a)\n",
    "    print(a, b)\n",
    "\n",
    "mojo()"
   ]
  },
  {
   "cell_type": "markdown",
   "metadata": {},
   "source": [
    "### Transfer for Owned arguments"
   ]
  },
  {
   "cell_type": "code",
   "execution_count": 10,
   "metadata": {},
   "outputs": [
    {
     "name": "stdout",
     "output_type": "stream",
     "text": [
      "mojo🔥\n"
     ]
    }
   ],
   "source": [
    "fn set_fire(owned text: String) -> String:\n",
    "    \"\"\"\n",
    "    set_fire\n",
    "\n",
    "    In) text: String\n",
    "    \n",
    "    Out) String\n",
    "    \"\"\"\n",
    "    text += \"🔥\"\n",
    "    return text\n",
    "\n",
    "fn mojo():\n",
    "    let a = \"mojo\"\n",
    "    let b = set_fire(a^)\n",
    "    # print(a)\n",
    "    print(b)\n",
    "\n",
    "mojo()"
   ]
  },
  {
   "cell_type": "code",
   "execution_count": 16,
   "metadata": {},
   "outputs": [
    {
     "name": "stdout",
     "output_type": "stream",
     "text": [
      "hello🔥\n"
     ]
    }
   ],
   "source": [
    "let b = set_fire(\"hello\")\n",
    "print(b)"
   ]
  },
  {
   "cell_type": "markdown",
   "metadata": {},
   "source": [
    "# Algorithm Solutions in Mojo"
   ]
  },
  {
   "cell_type": "markdown",
   "metadata": {},
   "source": [
    "## LeetCode 217. Contains Duplicate"
   ]
  },
  {
   "cell_type": "code",
   "execution_count": 20,
   "metadata": {},
   "outputs": [],
   "source": [
    "%%python\n",
    "def containsDuplicate(nums: list[int]):\n",
    "    s = {}\n",
    "    for n in nums:\n",
    "        if n in s:\n",
    "            return True\n",
    "        s[n] = True\n",
    "    return False"
   ]
  },
  {
   "cell_type": "code",
   "execution_count": 23,
   "metadata": {},
   "outputs": [
    {
     "name": "stdout",
     "output_type": "stream",
     "text": [
      "True\n",
      "False\n"
     ]
    }
   ],
   "source": [
    "%%python\n",
    "out = containsDuplicate([1,2,3,1])\n",
    "print(out)\n",
    "out = containsDuplicate([1,2,3,4])\n",
    "print(out)"
   ]
  },
  {
   "cell_type": "code",
   "execution_count": null,
   "metadata": {},
   "outputs": [],
   "source": []
  }
 ],
 "metadata": {
  "kernelspec": {
   "display_name": "Mojo",
   "language": "mojo",
   "name": "mojo-jupyter-kernel"
  },
  "language_info": {
   "codemirror_mode": {
    "name": "mojo"
   },
   "file_extension": ".mojo",
   "mimetype": "text/x-mojo",
   "name": "mojo"
  }
 },
 "nbformat": 4,
 "nbformat_minor": 2
}
